{
 "cells": [
  {
   "cell_type": "markdown",
   "id": "f1d7f033",
   "metadata": {},
   "source": [
    "### Model Training"
   ]
  },
  {
   "cell_type": "code",
   "execution_count": 1,
   "id": "4db312c7",
   "metadata": {},
   "outputs": [],
   "source": [
    "import pandas as pd"
   ]
  },
  {
   "cell_type": "code",
   "execution_count": 2,
   "id": "f6e919d4",
   "metadata": {},
   "outputs": [],
   "source": [
    "df = pd.read_csv(\"data_training.csv\")"
   ]
  },
  {
   "cell_type": "markdown",
   "id": "75d9d68e",
   "metadata": {},
   "source": [
    "### XGBoost"
   ]
  },
  {
   "cell_type": "code",
   "execution_count": 3,
   "id": "1b2e79be",
   "metadata": {},
   "outputs": [
    {
     "name": "stdout",
     "output_type": "stream",
     "text": [
      "\u001b[33mWARNING: You are using pip version 22.0.4; however, version 24.0 is available.\n",
      "You should consider upgrading via the '/Users/asa/Desktop/ITDS/venv/bin/python -m pip install --upgrade pip' command.\u001b[0m\u001b[33m\n",
      "\u001b[0m"
     ]
    }
   ],
   "source": [
    "!pip install xgboost -q"
   ]
  },
  {
   "cell_type": "code",
   "execution_count": 4,
   "id": "9ea1807d",
   "metadata": {},
   "outputs": [],
   "source": [
    "import xgboost as xgb\n",
    "from sklearn.model_selection import train_test_split\n",
    "from sklearn.metrics import classification_report, accuracy_score, precision_score, recall_score, f1_score, roc_auc_score"
   ]
  },
  {
   "cell_type": "code",
   "execution_count": 5,
   "id": "77aae775",
   "metadata": {},
   "outputs": [],
   "source": [
    "X = df.drop('Recommended', axis = 1)\n",
    "y = df[\"Recommended\"].map({'yes':1, 'no':0})"
   ]
  },
  {
   "cell_type": "code",
   "execution_count": 6,
   "id": "6032ec67",
   "metadata": {},
   "outputs": [],
   "source": [
    "X_train, X_test, y_train, y_test = train_test_split(X, y, test_size=0.05, random_state=42)"
   ]
  },
  {
   "cell_type": "code",
   "execution_count": 7,
   "id": "1c5b6861",
   "metadata": {},
   "outputs": [
    {
     "data": {
      "text/plain": [
       "['AirlineName',\n",
       " 'CabinType',\n",
       " 'EntertainmentRating',\n",
       " 'FoodRating',\n",
       " 'GroundServiceRating',\n",
       " 'OriginCountry',\n",
       " 'OverallScore',\n",
       " 'SeatComfortRating',\n",
       " 'ServiceRating',\n",
       " 'ValueRating',\n",
       " 'WifiRating',\n",
       " 'Day',\n",
       " 'Month',\n",
       " 'Year']"
      ]
     },
     "execution_count": 7,
     "metadata": {},
     "output_type": "execute_result"
    }
   ],
   "source": [
    "cols = list(X_train.columns)\n",
    "\n",
    "cols"
   ]
  },
  {
   "cell_type": "code",
   "execution_count": 8,
   "id": "907f5896",
   "metadata": {},
   "outputs": [],
   "source": [
    "params = {\n",
    "    'objective': 'binary:logistic',\n",
    "    'eval_metric': 'logloss',\n",
    "    'eta': 0.1,\n",
    "    'max_depth': 6,\n",
    "    'min_child_weight': 1,\n",
    "    'subsample': 0.8,\n",
    "    'colsample_bytree': 0.8,\n",
    "    'gamma': 0,\n",
    "    'lambda': 1,\n",
    "    'alpha': 0\n",
    "}"
   ]
  },
  {
   "cell_type": "code",
   "execution_count": 9,
   "id": "6acc759a",
   "metadata": {},
   "outputs": [],
   "source": [
    "num_round = 100\n",
    "\n",
    "dtrain = xgb.DMatrix(X_train, label=y_train, feature_names=cols)\n",
    "dtest = xgb.DMatrix(X_test, label=y_test, feature_names=cols)\n",
    "\n",
    "model = xgb.train(params, dtrain, num_round)"
   ]
  },
  {
   "cell_type": "code",
   "execution_count": 10,
   "id": "6b3593be",
   "metadata": {},
   "outputs": [],
   "source": [
    "model.save_model(\"model.json\")"
   ]
  },
  {
   "cell_type": "code",
   "execution_count": 11,
   "id": "7e84ffe4",
   "metadata": {},
   "outputs": [],
   "source": [
    "y_pred_prob = model.predict(dtest)\n",
    "y_pred = [1 if p > 0.5 else 0 for p in y_pred_prob]"
   ]
  },
  {
   "cell_type": "code",
   "execution_count": 12,
   "id": "c311e737",
   "metadata": {},
   "outputs": [
    {
     "name": "stdout",
     "output_type": "stream",
     "text": [
      "Accuracy: 0.9574537718867616\n",
      "Precision: 0.9529644268774704\n",
      "Recall: 0.9447492163009404\n",
      "F1 Score: 0.9488390397481307\n",
      "ROC AUC Score: 0.9917296517901104\n"
     ]
    }
   ],
   "source": [
    "print(\"Accuracy:\", accuracy_score(y_test, y_pred))\n",
    "print(\"Precision:\", precision_score(y_test, y_pred))\n",
    "print(\"Recall:\", recall_score(y_test, y_pred))\n",
    "print(\"F1 Score:\", f1_score(y_test, y_pred))\n",
    "print(\"ROC AUC Score:\", roc_auc_score(y_test, y_pred_prob))"
   ]
  },
  {
   "cell_type": "code",
   "execution_count": 13,
   "id": "1ab79f26",
   "metadata": {},
   "outputs": [],
   "source": [
    "import xgboost as xgb\n",
    "import pandas as pd\n",
    "\n",
    "\n",
    "def run(features, threshold=0.5) -> int:\n",
    "    # Load the model\n",
    "    loaded_model = xgb.Booster()\n",
    "    loaded_model.load_model(\"model.json\")\n",
    "\n",
    "    # Convert the features argument to a DataFrame\n",
    "    input_df = pd.DataFrame([features])\n",
    "\n",
    "    # Convert the DataFrame to DMatrix\n",
    "    cols = list(input_df.columns)\n",
    "    data_dmatrix = xgb.DMatrix(input_df, feature_names=cols)\n",
    "\n",
    "    # Make predictions\n",
    "    predictions = loaded_model.predict(data_dmatrix)\n",
    "\n",
    "    # Convert probabilities to binary outcome\n",
    "    prediction_output = [1 if x >= threshold else 0 for x in predictions]\n",
    "    return prediction_output[0]"
   ]
  },
  {
   "cell_type": "code",
   "execution_count": 15,
   "id": "d0913cfe",
   "metadata": {},
   "outputs": [
    {
     "data": {
      "text/plain": [
       "(1, 1)"
      ]
     },
     "execution_count": 15,
     "metadata": {},
     "output_type": "execute_result"
    }
   ],
   "source": [
    "sample = X_test.iloc[2285].to_dict()\n",
    "sample_y = y_test.iloc[2285]\n",
    "\n",
    "run(sample), sample_y"
   ]
  },
  {
   "cell_type": "code",
   "execution_count": 17,
   "id": "7311655e",
   "metadata": {},
   "outputs": [
    {
     "data": {
      "text/plain": [
       "{'AirlineName': 5.742218139656313,\n",
       " 'CabinType': 0.0,\n",
       " 'EntertainmentRating': 0.0,\n",
       " 'FoodRating': 3.0,\n",
       " 'GroundServiceRating': 0.0,\n",
       " 'OriginCountry': 5.367744393124137,\n",
       " 'OverallScore': 9.0,\n",
       " 'SeatComfortRating': 0.0,\n",
       " 'ServiceRating': 0.0,\n",
       " 'ValueRating': 4.0,\n",
       " 'WifiRating': 0.0,\n",
       " 'Day': 30.0,\n",
       " 'Month': 11.0,\n",
       " 'Year': 2017.0}"
      ]
     },
     "execution_count": 17,
     "metadata": {},
     "output_type": "execute_result"
    }
   ],
   "source": [
    "sample"
   ]
  },
  {
   "cell_type": "code",
   "execution_count": null,
   "id": "3caebf63",
   "metadata": {},
   "outputs": [],
   "source": []
  }
 ],
 "metadata": {
  "kernelspec": {
   "display_name": "Python 3 (ipykernel)",
   "language": "python",
   "name": "python3"
  },
  "language_info": {
   "codemirror_mode": {
    "name": "ipython",
    "version": 3
   },
   "file_extension": ".py",
   "mimetype": "text/x-python",
   "name": "python",
   "nbconvert_exporter": "python",
   "pygments_lexer": "ipython3",
   "version": "3.9.15"
  }
 },
 "nbformat": 4,
 "nbformat_minor": 5
}
